{
 "cells": [
  {
   "cell_type": "code",
   "execution_count": 1,
   "metadata": {},
   "outputs": [],
   "source": [
    "import numpy as np\n",
    "import pandas as pd\n",
    "import matplotlib.pyplot as plt\n",
    "import seaborn as sns"
   ]
  },
  {
   "cell_type": "markdown",
   "metadata": {},
   "source": [
    "# 실습2. Sub-Gradient method\n",
    "\n",
    "데이터 셋 \"diabetes2.csv\"에 대해서 로지스틱 회귀모델 $ y= g(\\beta_0 + \\beta_1 x_1 + \\beta_2 x_2 \\cdots) \\quad  ; g(t) = \\frac{1}{1+exp(-t)}$을 가정한 후 다음 문제를 풀어보아라.\n",
    "\n",
    "문제 A. 제약이 없는 MLE를 Gradient Descent 방법으로 풀어보자.   \n",
    "문제 B. A에 L2-Penalty를 추가하여 Gradient Descent 방법으로 풀어보자.   \n",
    "문제 C. A에 L1-Penalty를 추가하여 Sub Gradient 방법으로 풀어보자. \n"
   ]
  },
  {
   "cell_type": "markdown",
   "metadata": {},
   "source": [
    "## 문제 0. 데이터 셋 만들기"
   ]
  },
  {
   "cell_type": "markdown",
   "metadata": {},
   "source": [
    "우선 데이터 셋을 불러오자.  \n",
    "\n",
    "알고리즘을 짤때, Pandas DataFrame이냐 Numpy Array이냐에 따라서 연산이 조금씩 달라지기 때문에 하나로 통일해주자. 여기서는 Numpy Array로 통일해 주었다.  \n",
    "\n",
    "실습1에서 스케일 문제는 수렴의 불균형에 영향을 준다고 하였다. 따라서 스케일링을 한 다음에 구현을 진행하자.  \n",
    "이전과 마찬가지로 StandardScaler를 활용하였다. "
   ]
  },
  {
   "cell_type": "code",
   "execution_count": 98,
   "metadata": {},
   "outputs": [],
   "source": [
    "data = pd.read_csv(\"diabetes2.csv\")\n",
    "x_mat = data.iloc[:,:-1].values\n",
    "y_mat = data.iloc[:,-1].values\n",
    "\n",
    "from sklearn import preprocessing \n",
    "x_mat = preprocessing.scale(x_mat)\n",
    "x_mat = np.concatenate((np.ones((np.shape(x_mat)[0],1)),x_mat),axis=1)"
   ]
  },
  {
   "cell_type": "markdown",
   "metadata": {},
   "source": [
    "## 문제 A. 제약이 없는 MLE를 Gradient Descent 방법으로 풀어보자."
   ]
  },
  {
   "cell_type": "markdown",
   "metadata": {},
   "source": [
    "실습 1에서는 단순히 다중 선형회귀모델의 계수를 적합시키는 것이 목표였고, 목적함수를 오차의 L2 Norm으로 둬서 잘 추정할 수 있었다.  \n",
    "그러나 이번에 가정된 로지스틱 회귀모델은 오차를 L2 Norm으로 측정하기가 어렵다.  \n",
    "\n",
    "\n",
    "\n",
    "따라서 로지스틱 회귀모델은 다음과 같은 통계적 모델을 가정하여 MLE를 이용해서 풀어낸다.  \n",
    "\n",
    "$$y_i \\sim Benoulli(\\theta_i) \\\\ \\frac{\\theta_i}{1-\\theta_i} = X_i \\beta + \\epsilon_i \\\\ \\Rightarrow \\theta_i = \\frac{exp(X_i \\beta)}{1+exp(X_i \\beta)} + \\epsilon_i' \\\\ \\Rightarrow  \\theta_i = g(X_i \\beta) +\\epsilon_i'$$\n"
   ]
  },
  {
   "cell_type": "markdown",
   "metadata": {},
   "source": [
    "\n",
    "\n",
    "이에 대해서 데이터 $D$와 모수 $\\beta$의 log-Likelihood는 다음과 같다.  \n",
    "$$log L(\\beta;D) \\\\ = log \\prod Pr(y_i;\\theta_i) = \\sum log Pr(y_i ; \\theta_i) \\\\ = \\sum \\{ log \\theta_i^{y_i} + log (1-\\theta_i)^{(1-y_i)}\\} \\\\ = \\sum \\{ y_i log \\frac{\\theta_i}{1-\\theta_i} + log (1-\\theta_i) \\} \\\\ = \\sum \\{ y_i log( \\frac{exp(X_i \\beta)/(1+exp(X_i \\beta)}{1/(1+exp(X_i \\beta)} ) + log (1/(1+exp(X_i \\beta)) \\} \\\\ =\\sum \\{ y_i X_i \\beta -log (1+exp(X_i\\beta)) \\}$$"
   ]
  },
  {
   "cell_type": "markdown",
   "metadata": {},
   "source": [
    "따라서 주어진 optimization 문제를 도식화 하면 다음과 같다.  \n",
    "\n",
    "$$\\quad max \\quad log L(\\beta;D) \\\\ \\Rightarrow \\quad   min \\quad - log L(\\beta;D) \\\\  \\Rightarrow  \\quad min \\sum \\{-y_iX_i\\beta + log(1+exp(X_i\\beta))\\}$$  \n",
    "\n",
    "즉 목적함수는 $f_A(\\beta) = \\sum \\{-y_iX_i\\beta + log(1+exp(X_i\\beta))\\}$가 된다.   \n",
    "\n",
    "**이렇게 찾은 함수를 이용하여 $\\beta$를 넣으면 Cost를 구해주는 함수를 정의해보자.**"
   ]
  },
  {
   "cell_type": "code",
   "execution_count": 99,
   "metadata": {},
   "outputs": [],
   "source": [
    "def logit(x) : \n",
    "    return(1/(1+np.exp(-x)))\n",
    "\n",
    "def cost_A(beta) : \n",
    "    return(-y_mat.T@x_mat@beta +sum(np.log(1+np.exp(x_mat@beta))))"
   ]
  },
  {
   "cell_type": "markdown",
   "metadata": {},
   "source": [
    "다음으로 함수의 Gradient를 계산하면 다음과 같다.  \n",
    "$\\nabla f_A(\\beta) = \\sum \\{ -y_iX_i^t + \\frac{exp(X_i\\beta)}{1+exp(X_i\\beta)}X_i^t \\} \\\\ \\qquad =  \\sum \\{( -y_i + \\frac{exp(X_i\\beta)}{1+exp(X_i\\beta)})X_i^t \\}$   \n",
    "\n",
    "**이를 이용하여 $\\beta$를 넣으면 현재의 Gradient를 계산해주는 함수를 정의해보자.**"
   ]
  },
  {
   "cell_type": "code",
   "execution_count": 100,
   "metadata": {},
   "outputs": [],
   "source": [
    "def gradient_A(beta) :\n",
    "    return(sum((-y_mat.reshape(-1,1)+logit(x_mat@beta)).T@x_mat).reshape(-1,1))"
   ]
  },
  {
   "cell_type": "markdown",
   "metadata": {},
   "source": [
    "BackTracking Line Search의 Condition은 다음과 같다.  \n",
    "$$f(\\beta^+) > f(\\beta) - \\alpha t \\parallel \\nabla f(\\beta) \\parallel_2^2$$  \n",
    "\n",
    "**위에서 구한 식들을 활용하여 Backtracking Line Search Condition을 확인해주는 함수를 짜보자.**"
   ]
  },
  {
   "cell_type": "code",
   "execution_count": 101,
   "metadata": {},
   "outputs": [],
   "source": [
    "def backtracking_A(t) :\n",
    "    beta_plus = beta_temp-t*gradient_A(beta_temp)\n",
    "    LS = cost_A(beta_plus)\n",
    "    RS = cost_A(beta_temp)-alpha*t*sum(gradient_A(beta_temp)**2)\n",
    "    return(LS>RS)"
   ]
  },
  {
   "cell_type": "markdown",
   "metadata": {},
   "source": [
    "Gradient Descent에서는 Gradient가 충분히 작아졌을때 얼리스타핑을 해줄 수 있다. 일반적으로 L2-Norm을 쓰며 이를 표현하면 다음과 같다.  \n",
    "$$\\mbox{Stop if } \\parallel \\nabla f(\\beta) \\parallel_2 < \\epsilon$$  \n",
    "\n",
    "여기서 $\\epsilon$은 적절한 상수이다.  \n",
    "\n",
    "**얼리스타핑 conditon을 확인해주는 함수를 짜보자.**"
   ]
  },
  {
   "cell_type": "code",
   "execution_count": 102,
   "metadata": {},
   "outputs": [],
   "source": [
    "def earlystopping_A(beta,goal) :\n",
    "    return(np.linalg.norm(gradient_A(beta))<goal)"
   ]
  },
  {
   "cell_type": "markdown",
   "metadata": {},
   "source": [
    "이제 위에서 정의한 함수를 기반으로 하여 Gradient Descent를 짜줄수 있다.  \n",
    "\n",
    "Gradient Descent를 돌리기 위해 필요한 초기값과 Hyper Parameter는 1.모수의 초기값, 2.현재 모수값의 Placeholer, 3.스텝사이즈 초기값, 3.현재 스텝사이즈의 Placeholder, 4.Backtracking Line Search의 Hyper Parameter $\\alpha$와 $\\beta$, 5.얼리스타핑의 기준이 되어줄 tolerance 들이다. 이를 모두 정의해주자. \n",
    "\n",
    "**우선 Gradient Descent를 돌리기 전 초기 설정값들을 정의해주자.**"
   ]
  },
  {
   "cell_type": "code",
   "execution_count": 103,
   "metadata": {},
   "outputs": [],
   "source": [
    "## 초기값\n",
    "beta_init = np.array([1,1,1,1,1,1,1,1,1]).reshape(9,1)\n",
    "t_init = 10\n",
    "\n",
    "## 현재값\n",
    "beta_temp = beta_init\n",
    "t_temp = t_init\n",
    "\n",
    "## 전체 결과물 저장소\n",
    "GD_result_A = [cost_A(beta_temp).tolist()+[t_temp]+beta_temp.T.tolist()[0]]\n",
    "\n",
    "## BackTracking Hyperparameter\n",
    "alpha = 0.5\n",
    "beta = 0.7\n",
    "\n",
    "## Early Stopping Hyperparameter\n",
    "tol = 1"
   ]
  },
  {
   "cell_type": "markdown",
   "metadata": {},
   "source": [
    "Backtracking Line Search를 이용한 Gradient Descent의 알고리즘은 다음과 같다.  \n",
    "1. backtracking condition이 깨질 때까지 step size t를 beta의 비율만큼 축소해주기 \n",
    "2. $x^+ = x - t \\nabla f(x)$를 통해 새로운 값 $x^+$를 찾기\n",
    "3. 현재의 변수값과 StepSize, Cost 등을 정해주기\n",
    "4. Early Stopping 기준을 충족했는지 확인한 후 충족하지 못했다면 1로 회귀하고 충족했다면 중단  \n",
    "\n",
    "**이를 코드로 구현하면 다음과 같다.**"
   ]
  },
  {
   "cell_type": "code",
   "execution_count": 106,
   "metadata": {},
   "outputs": [],
   "source": [
    "for i in range(10000) :\n",
    "    while backtracking_A(t_temp) :\n",
    "        t_temp = t_temp * beta\n",
    "    beta_temp = beta_temp - t_temp*gradient_A(beta_temp)\n",
    "    GD_result_A = np.append(GD_result_A,[cost_A(beta_temp).tolist()+[t_temp]+beta_temp.T.tolist()[0]],axis=0)\n",
    "    if earlystopping_A(beta_temp,tol) : break\n",
    "GD_result_A = pd.DataFrame(GD_result_A,columns=[\"cost\",\"t_step\",\"beta0\",\"beta1\",\"beta2\",\"beta3\",\"beta4\",\"beta5\",\"beta6\",\"beta7\",\"beta8\"])"
   ]
  },
  {
   "cell_type": "markdown",
   "metadata": {},
   "source": [
    "**Gradient Descent 결과물을 확인해보자.**"
   ]
  },
  {
   "cell_type": "code",
   "execution_count": 15,
   "metadata": {},
   "outputs": [
    {
     "data": {
      "text/html": [
       "<div>\n",
       "<style scoped>\n",
       "    .dataframe tbody tr th:only-of-type {\n",
       "        vertical-align: middle;\n",
       "    }\n",
       "\n",
       "    .dataframe tbody tr th {\n",
       "        vertical-align: top;\n",
       "    }\n",
       "\n",
       "    .dataframe thead th {\n",
       "        text-align: right;\n",
       "    }\n",
       "</style>\n",
       "<table border=\"1\" class=\"dataframe\">\n",
       "  <thead>\n",
       "    <tr style=\"text-align: right;\">\n",
       "      <th></th>\n",
       "      <th>cost</th>\n",
       "      <th>t_step</th>\n",
       "      <th>beta0</th>\n",
       "      <th>beta1</th>\n",
       "      <th>beta2</th>\n",
       "      <th>beta3</th>\n",
       "      <th>beta4</th>\n",
       "      <th>beta5</th>\n",
       "      <th>beta6</th>\n",
       "      <th>beta7</th>\n",
       "      <th>beta8</th>\n",
       "    </tr>\n",
       "  </thead>\n",
       "  <tbody>\n",
       "    <tr>\n",
       "      <td>0</td>\n",
       "      <td>866.720916</td>\n",
       "      <td>10.000000</td>\n",
       "      <td>1.000000</td>\n",
       "      <td>1.000000</td>\n",
       "      <td>1.000000</td>\n",
       "      <td>1.000000</td>\n",
       "      <td>1.000000</td>\n",
       "      <td>1.000000</td>\n",
       "      <td>1.000000</td>\n",
       "      <td>1.000000</td>\n",
       "      <td>1.000000</td>\n",
       "    </tr>\n",
       "    <tr>\n",
       "      <td>1</td>\n",
       "      <td>379.218417</td>\n",
       "      <td>0.011399</td>\n",
       "      <td>-0.973677</td>\n",
       "      <td>0.516779</td>\n",
       "      <td>1.187144</td>\n",
       "      <td>-0.311791</td>\n",
       "      <td>-0.257624</td>\n",
       "      <td>0.139611</td>\n",
       "      <td>0.478495</td>\n",
       "      <td>0.592219</td>\n",
       "      <td>0.359042</td>\n",
       "    </tr>\n",
       "    <tr>\n",
       "      <td>2</td>\n",
       "      <td>365.506140</td>\n",
       "      <td>0.005585</td>\n",
       "      <td>-0.939247</td>\n",
       "      <td>0.408320</td>\n",
       "      <td>1.140585</td>\n",
       "      <td>-0.266049</td>\n",
       "      <td>-0.106597</td>\n",
       "      <td>0.056369</td>\n",
       "      <td>0.653294</td>\n",
       "      <td>0.464528</td>\n",
       "      <td>0.199691</td>\n",
       "    </tr>\n",
       "    <tr>\n",
       "      <td>3</td>\n",
       "      <td>362.611854</td>\n",
       "      <td>0.005585</td>\n",
       "      <td>-0.903952</td>\n",
       "      <td>0.422112</td>\n",
       "      <td>1.111168</td>\n",
       "      <td>-0.250980</td>\n",
       "      <td>-0.086036</td>\n",
       "      <td>-0.049792</td>\n",
       "      <td>0.691542</td>\n",
       "      <td>0.377948</td>\n",
       "      <td>0.193026</td>\n",
       "    </tr>\n",
       "    <tr>\n",
       "      <td>4</td>\n",
       "      <td>361.979125</td>\n",
       "      <td>0.005585</td>\n",
       "      <td>-0.885605</td>\n",
       "      <td>0.414749</td>\n",
       "      <td>1.104840</td>\n",
       "      <td>-0.246244</td>\n",
       "      <td>-0.047661</td>\n",
       "      <td>-0.081657</td>\n",
       "      <td>0.714159</td>\n",
       "      <td>0.343741</td>\n",
       "      <td>0.177068</td>\n",
       "    </tr>\n",
       "    <tr>\n",
       "      <td>5</td>\n",
       "      <td>361.819451</td>\n",
       "      <td>0.005585</td>\n",
       "      <td>-0.877381</td>\n",
       "      <td>0.416187</td>\n",
       "      <td>1.104590</td>\n",
       "      <td>-0.247812</td>\n",
       "      <td>-0.030763</td>\n",
       "      <td>-0.104006</td>\n",
       "      <td>0.717316</td>\n",
       "      <td>0.326397</td>\n",
       "      <td>0.175765</td>\n",
       "    </tr>\n",
       "    <tr>\n",
       "      <td>6</td>\n",
       "      <td>361.766833</td>\n",
       "      <td>0.005585</td>\n",
       "      <td>-0.873695</td>\n",
       "      <td>0.415375</td>\n",
       "      <td>1.107571</td>\n",
       "      <td>-0.250019</td>\n",
       "      <td>-0.017443</td>\n",
       "      <td>-0.114275</td>\n",
       "      <td>0.717343</td>\n",
       "      <td>0.319215</td>\n",
       "      <td>0.174437</td>\n",
       "    </tr>\n",
       "    <tr>\n",
       "      <td>7</td>\n",
       "      <td>361.744771</td>\n",
       "      <td>0.005585</td>\n",
       "      <td>-0.872184</td>\n",
       "      <td>0.415366</td>\n",
       "      <td>1.110723</td>\n",
       "      <td>-0.252134</td>\n",
       "      <td>-0.009486</td>\n",
       "      <td>-0.121418</td>\n",
       "      <td>0.715349</td>\n",
       "      <td>0.315756</td>\n",
       "      <td>0.174636</td>\n",
       "    </tr>\n",
       "    <tr>\n",
       "      <td>8</td>\n",
       "      <td>361.734168</td>\n",
       "      <td>0.005585</td>\n",
       "      <td>-0.871524</td>\n",
       "      <td>0.415106</td>\n",
       "      <td>1.113634</td>\n",
       "      <td>-0.253659</td>\n",
       "      <td>-0.003767</td>\n",
       "      <td>-0.125840</td>\n",
       "      <td>0.713471</td>\n",
       "      <td>0.314253</td>\n",
       "      <td>0.174732</td>\n",
       "    </tr>\n",
       "    <tr>\n",
       "      <td>9</td>\n",
       "      <td>361.728755</td>\n",
       "      <td>0.005585</td>\n",
       "      <td>-0.871254</td>\n",
       "      <td>0.414973</td>\n",
       "      <td>1.115992</td>\n",
       "      <td>-0.254746</td>\n",
       "      <td>0.000094</td>\n",
       "      <td>-0.129013</td>\n",
       "      <td>0.711800</td>\n",
       "      <td>0.313534</td>\n",
       "      <td>0.174897</td>\n",
       "    </tr>\n",
       "  </tbody>\n",
       "</table>\n",
       "</div>"
      ],
      "text/plain": [
       "         cost     t_step     beta0     beta1     beta2     beta3     beta4  \\\n",
       "0  866.720916  10.000000  1.000000  1.000000  1.000000  1.000000  1.000000   \n",
       "1  379.218417   0.011399 -0.973677  0.516779  1.187144 -0.311791 -0.257624   \n",
       "2  365.506140   0.005585 -0.939247  0.408320  1.140585 -0.266049 -0.106597   \n",
       "3  362.611854   0.005585 -0.903952  0.422112  1.111168 -0.250980 -0.086036   \n",
       "4  361.979125   0.005585 -0.885605  0.414749  1.104840 -0.246244 -0.047661   \n",
       "5  361.819451   0.005585 -0.877381  0.416187  1.104590 -0.247812 -0.030763   \n",
       "6  361.766833   0.005585 -0.873695  0.415375  1.107571 -0.250019 -0.017443   \n",
       "7  361.744771   0.005585 -0.872184  0.415366  1.110723 -0.252134 -0.009486   \n",
       "8  361.734168   0.005585 -0.871524  0.415106  1.113634 -0.253659 -0.003767   \n",
       "9  361.728755   0.005585 -0.871254  0.414973  1.115992 -0.254746  0.000094   \n",
       "\n",
       "      beta5     beta6     beta7     beta8  \n",
       "0  1.000000  1.000000  1.000000  1.000000  \n",
       "1  0.139611  0.478495  0.592219  0.359042  \n",
       "2  0.056369  0.653294  0.464528  0.199691  \n",
       "3 -0.049792  0.691542  0.377948  0.193026  \n",
       "4 -0.081657  0.714159  0.343741  0.177068  \n",
       "5 -0.104006  0.717316  0.326397  0.175765  \n",
       "6 -0.114275  0.717343  0.319215  0.174437  \n",
       "7 -0.121418  0.715349  0.315756  0.174636  \n",
       "8 -0.125840  0.713471  0.314253  0.174732  \n",
       "9 -0.129013  0.711800  0.313534  0.174897  "
      ]
     },
     "execution_count": 15,
     "metadata": {},
     "output_type": "execute_result"
    }
   ],
   "source": [
    "GD_result_A"
   ]
  },
  {
   "cell_type": "markdown",
   "metadata": {},
   "source": [
    "적당히 잘 수렴한 것 같고 Cost Function은 866에서 361까지로 줄어들었다.  \n",
    "이 결과물을 시각화 해보자. "
   ]
  },
  {
   "cell_type": "code",
   "execution_count": 107,
   "metadata": {},
   "outputs": [],
   "source": [
    "def draw_convergence(variable,data) :\n",
    "    sns.lineplot(x=data.index, y=variable,\n",
    "                  sort=False, data=data)\n",
    "    sns.scatterplot(x=data.index, y=variable,data=data,s=50,marker=\"o\")"
   ]
  },
  {
   "cell_type": "code",
   "execution_count": 19,
   "metadata": {},
   "outputs": [
    {
     "data": {
      "image/png": "[encoded data removed]",
      "text/plain": [
       "<Figure size 1080x360 with 3 Axes>"
      ]
     },
     "metadata": {
      "needs_background": "light"
     },
     "output_type": "display_data"
    }
   ],
   "source": [
    "plt.figure(figsize=(15,5))\n",
    "\n",
    "plt.subplot(131)\n",
    "\n",
    "draw_convergence(\"beta0\",GD_result_A)\n",
    "draw_convergence(\"beta1\",GD_result_A)\n",
    "draw_convergence(\"beta2\",GD_result_A)\n",
    "draw_convergence(\"beta3\",GD_result_A)\n",
    "draw_convergence(\"beta4\",GD_result_A)\n",
    "draw_convergence(\"beta5\",GD_result_A)\n",
    "draw_convergence(\"beta6\",GD_result_A)\n",
    "draw_convergence(\"beta7\",GD_result_A)\n",
    "draw_convergence(\"beta8\",GD_result_A)\n",
    "plt.title(\"Variable Convergence\",fontsize=20)\n",
    "\n",
    "\n",
    "plt.subplot(132)\n",
    "\n",
    "draw_convergence(\"cost\",GD_result_A)\n",
    "plt.title(\"Cost Function Convergence\",fontsize=20)\n",
    "\n",
    "plt.subplot(133)\n",
    "\n",
    "draw_convergence(\"t_step\",GD_result_A)\n",
    "plt.yscale(\"log\")\n",
    "plt.title(\"Step Size Convergence\",fontsize=20)\n",
    "\n",
    "plt.show()"
   ]
  },
  {
   "cell_type": "markdown",
   "metadata": {},
   "source": [
    "변수들과 Cost Function이 무사이 수렴한 모습을 볼 수 있다.  \n",
    "\n",
    "그러나 이값들이 정말로 신뢰성이 있는 값들인지 알아보기 위해서 SK-learn에 있는 Logistic Regression 함수를 사용해서 다시 체크를 해보았다. "
   ]
  },
  {
   "cell_type": "code",
   "execution_count": 20,
   "metadata": {},
   "outputs": [
    {
     "data": {
      "text/plain": [
       "array([[-0.85880471,  0.40796967,  1.10556381, -0.25048242,  0.00914831,\n",
       "        -0.13090206,  0.6944184 ,  0.308601  ,  0.17575565]])"
      ]
     },
     "execution_count": 20,
     "metadata": {},
     "output_type": "execute_result"
    }
   ],
   "source": [
    "from sklearn.linear_model import LogisticRegression\n",
    "lr_A = LogisticRegression(fit_intercept=False)\n",
    "lr_A.fit(x_mat,y_mat)\n",
    "lr_A.coef_"
   ]
  },
  {
   "cell_type": "markdown",
   "metadata": {},
   "source": [
    "값들이 거의 유사함을 확인할 수 있다. "
   ]
  },
  {
   "cell_type": "markdown",
   "metadata": {},
   "source": [
    "## 문제 B. A에 L2-Penalty를 추가하여 Gradient Descent 방법으로 풀어보자.   "
   ]
  },
  {
   "cell_type": "markdown",
   "metadata": {},
   "source": [
    "L2- Penalty가 추가된다면 목적함수의 꼴이 약간 달라진다. 구체적으로 다음과 같다. \n",
    "\n",
    "$$f_{B}(\\beta) = f_{A}(\\beta) + \\lambda \\parallel \\beta \\parallel_2  \\\\ = \\sum \\{ y_i X_i \\beta -log (1+exp(X_i\\beta)) \\} + \\lambda \\parallel \\beta \\parallel_2 $$\n",
    "\n",
    "이를 이용해서 CostFunciton을 새로 정의해보자"
   ]
  },
  {
   "cell_type": "code",
   "execution_count": 109,
   "metadata": {},
   "outputs": [],
   "source": [
    "def cost_B(beta,lamda) : \n",
    "    return(-y_mat.T@x_mat@beta +sum(np.log(1+np.exp(x_mat@beta)))+lamda * np.linalg.norm(beta))"
   ]
  },
  {
   "cell_type": "markdown",
   "metadata": {},
   "source": [
    "이 목적함수의 Gradient를 구하면 다음과 같다.  \n",
    "\n",
    "$$\\nabla f_B(\\beta) = \\nabla(f_A(\\beta)+\\lambda \\parallel \\beta \\parallel_2) \\\\ \\qquad = \\nabla f_A(\\beta) + \\nabla \\lambda \\parallel \\beta \\parallel_2 \\\\ \\qquad = \\nabla f_A(\\beta) + \\lambda \\beta \\\\ =  \\sum \\{( -y_i + \\frac{exp(X_i\\beta)}{1+exp(X_i\\beta)})X_i^t \\} + \\lambda \\beta$$  \n",
    "\n",
    "Gradient의 전반부는 앞서서 구한것과 똑같은 모습이다. 따라서 앞의 것에 약간만 추가해줌으로써 구현할 수 있다.  \n",
    "\n",
    "**$\\nabla f_B(\\beta)$를 함수로 정의해보자.**"
   ]
  },
  {
   "cell_type": "code",
   "execution_count": 110,
   "metadata": {},
   "outputs": [],
   "source": [
    "def gradient_B(beta,lamda) :\n",
    "    return(sum((-y_mat.reshape(-1,1)+logit(x_mat@beta)).T@x_mat).reshape(-1,1)+lamda*beta)"
   ]
  },
  {
   "cell_type": "markdown",
   "metadata": {},
   "source": [
    "**앞선 문제에서 했던 것처럼 BackTracking Condtion과 Early Stopping Condition을 체크해주는 함수를 정의하자.**"
   ]
  },
  {
   "cell_type": "code",
   "execution_count": 112,
   "metadata": {},
   "outputs": [],
   "source": [
    "def backtracking_B(t,lamda) :\n",
    "    beta_plus = beta_temp-t*gradient_B(beta_temp,lamda)\n",
    "    LS = cost_B(beta_plus,lamda)\n",
    "    RS = cost_B(beta_temp,lamda)-alpha*t*sum(gradient_B(beta_temp,lamda)**2)\n",
    "    return(LS>RS)\n",
    "\n",
    "def earlystopping_B(beta,lamda,goal) :\n",
    "    return(np.linalg.norm(gradient_B(beta,lamda))<goal)"
   ]
  },
  {
   "cell_type": "markdown",
   "metadata": {},
   "source": [
    "**마찬가지로 초기설정을 지정해주자.**"
   ]
  },
  {
   "cell_type": "code",
   "execution_count": 115,
   "metadata": {},
   "outputs": [],
   "source": [
    "## 초기값\n",
    "beta_init = np.array([1,1,1,1,1,1,1,1,1]).reshape(9,1)\n",
    "t_init = 10\n",
    "\n",
    "## 현재값\n",
    "beta_temp = beta_init\n",
    "t_temp = t_init\n",
    "\n",
    "## Penalty Function Hyperparameter\n",
    "lamda = 10\n",
    "\n",
    "## 전체 결과물 저장소\n",
    "GD_result_B = [cost_B(beta_temp,lamda = 10).tolist()+[t_temp]+beta_temp.T.tolist()[0]]\n",
    "\n",
    "## BackTracking Hyperparameter\n",
    "alpha = 0.5\n",
    "beta = 0.7\n",
    "\n",
    "## Early Stopping Hyperparameter\n",
    "tol = 11"
   ]
  },
  {
   "cell_type": "markdown",
   "metadata": {},
   "source": [
    "**Gradient Descent를 돌려보자.**"
   ]
  },
  {
   "cell_type": "code",
   "execution_count": 116,
   "metadata": {},
   "outputs": [
    {
     "name": "stderr",
     "output_type": "stream",
     "text": [
      "C:\\Users\\User\\AppData\\Local\\Continuum\\anaconda3\\lib\\site-packages\\ipykernel_launcher.py:2: RuntimeWarning: overflow encountered in exp\n",
      "  \n"
     ]
    }
   ],
   "source": [
    "for i in range(10000) :\n",
    "    while backtracking_B(t_temp,lamda) :\n",
    "        t_temp = t_temp * beta\n",
    "    beta_temp = beta_temp - t_temp*gradient_B(beta_temp,lamda)\n",
    "    GD_result_B = np.append(GD_result_B,[cost_B(beta_temp,lamda).tolist()+[t_temp]+beta_temp.T.tolist()[0]],axis=0)\n",
    "    if earlystopping_B(beta_temp,lamda,tol) : break\n",
    "GD_result_B = pd.DataFrame(GD_result_B,columns=[\"cost\",\"t_step\",\"beta0\",\"beta1\",\"beta2\",\"beta3\",\"beta4\",\"beta5\",\"beta6\",\"beta7\",\"beta8\"])"
   ]
  },
  {
   "cell_type": "markdown",
   "metadata": {},
   "source": [
    "**결과물을 확인해보자.**"
   ]
  },
  {
   "cell_type": "code",
   "execution_count": 117,
   "metadata": {},
   "outputs": [
    {
     "data": {
      "text/html": [
       "<div>\n",
       "<style scoped>\n",
       "    .dataframe tbody tr th:only-of-type {\n",
       "        vertical-align: middle;\n",
       "    }\n",
       "\n",
       "    .dataframe tbody tr th {\n",
       "        vertical-align: top;\n",
       "    }\n",
       "\n",
       "    .dataframe thead th {\n",
       "        text-align: right;\n",
       "    }\n",
       "</style>\n",
       "<table border=\"1\" class=\"dataframe\">\n",
       "  <thead>\n",
       "    <tr style=\"text-align: right;\">\n",
       "      <th></th>\n",
       "      <th>cost</th>\n",
       "      <th>t_step</th>\n",
       "      <th>beta0</th>\n",
       "      <th>beta1</th>\n",
       "      <th>beta2</th>\n",
       "      <th>beta3</th>\n",
       "      <th>beta4</th>\n",
       "      <th>beta5</th>\n",
       "      <th>beta6</th>\n",
       "      <th>beta7</th>\n",
       "      <th>beta8</th>\n",
       "    </tr>\n",
       "  </thead>\n",
       "  <tbody>\n",
       "    <tr>\n",
       "      <td>0</td>\n",
       "      <td>896.720916</td>\n",
       "      <td>10.000000</td>\n",
       "      <td>1.000000</td>\n",
       "      <td>1.000000</td>\n",
       "      <td>1.000000</td>\n",
       "      <td>1.000000</td>\n",
       "      <td>1.000000</td>\n",
       "      <td>1.000000</td>\n",
       "      <td>1.000000</td>\n",
       "      <td>1.000000</td>\n",
       "      <td>1.000000</td>\n",
       "    </tr>\n",
       "    <tr>\n",
       "      <td>1</td>\n",
       "      <td>406.311886</td>\n",
       "      <td>0.011399</td>\n",
       "      <td>-1.087666</td>\n",
       "      <td>0.402790</td>\n",
       "      <td>1.073155</td>\n",
       "      <td>-0.425780</td>\n",
       "      <td>-0.371613</td>\n",
       "      <td>0.025622</td>\n",
       "      <td>0.364506</td>\n",
       "      <td>0.478230</td>\n",
       "      <td>0.245053</td>\n",
       "    </tr>\n",
       "    <tr>\n",
       "      <td>2</td>\n",
       "      <td>383.281980</td>\n",
       "      <td>0.003910</td>\n",
       "      <td>-0.931849</td>\n",
       "      <td>0.386368</td>\n",
       "      <td>1.088096</td>\n",
       "      <td>-0.263151</td>\n",
       "      <td>-0.142237</td>\n",
       "      <td>0.073183</td>\n",
       "      <td>0.565069</td>\n",
       "      <td>0.426053</td>\n",
       "      <td>0.214159</td>\n",
       "    </tr>\n",
       "    <tr>\n",
       "      <td>3</td>\n",
       "      <td>379.631772</td>\n",
       "      <td>0.003910</td>\n",
       "      <td>-0.862613</td>\n",
       "      <td>0.381641</td>\n",
       "      <td>1.041962</td>\n",
       "      <td>-0.229388</td>\n",
       "      <td>-0.092225</td>\n",
       "      <td>0.008793</td>\n",
       "      <td>0.607562</td>\n",
       "      <td>0.364585</td>\n",
       "      <td>0.196105</td>\n",
       "    </tr>\n",
       "    <tr>\n",
       "      <td>4</td>\n",
       "      <td>378.509512</td>\n",
       "      <td>0.003910</td>\n",
       "      <td>-0.823497</td>\n",
       "      <td>0.376088</td>\n",
       "      <td>1.011542</td>\n",
       "      <td>-0.215311</td>\n",
       "      <td>-0.061528</td>\n",
       "      <td>-0.031322</td>\n",
       "      <td>0.622807</td>\n",
       "      <td>0.327347</td>\n",
       "      <td>0.184723</td>\n",
       "    </tr>\n",
       "    <tr>\n",
       "      <td>5</td>\n",
       "      <td>378.199430</td>\n",
       "      <td>0.003910</td>\n",
       "      <td>-0.800869</td>\n",
       "      <td>0.372068</td>\n",
       "      <td>0.994334</td>\n",
       "      <td>-0.208700</td>\n",
       "      <td>-0.040770</td>\n",
       "      <td>-0.053808</td>\n",
       "      <td>0.626663</td>\n",
       "      <td>0.305910</td>\n",
       "      <td>0.179524</td>\n",
       "    </tr>\n",
       "  </tbody>\n",
       "</table>\n",
       "</div>"
      ],
      "text/plain": [
       "         cost     t_step     beta0     beta1     beta2     beta3     beta4  \\\n",
       "0  896.720916  10.000000  1.000000  1.000000  1.000000  1.000000  1.000000   \n",
       "1  406.311886   0.011399 -1.087666  0.402790  1.073155 -0.425780 -0.371613   \n",
       "2  383.281980   0.003910 -0.931849  0.386368  1.088096 -0.263151 -0.142237   \n",
       "3  379.631772   0.003910 -0.862613  0.381641  1.041962 -0.229388 -0.092225   \n",
       "4  378.509512   0.003910 -0.823497  0.376088  1.011542 -0.215311 -0.061528   \n",
       "5  378.199430   0.003910 -0.800869  0.372068  0.994334 -0.208700 -0.040770   \n",
       "\n",
       "      beta5     beta6     beta7     beta8  \n",
       "0  1.000000  1.000000  1.000000  1.000000  \n",
       "1  0.025622  0.364506  0.478230  0.245053  \n",
       "2  0.073183  0.565069  0.426053  0.214159  \n",
       "3  0.008793  0.607562  0.364585  0.196105  \n",
       "4 -0.031322  0.622807  0.327347  0.184723  \n",
       "5 -0.053808  0.626663  0.305910  0.179524  "
      ]
     },
     "execution_count": 117,
     "metadata": {},
     "output_type": "execute_result"
    }
   ],
   "source": [
    "GD_result_B"
   ]
  },
  {
   "cell_type": "code",
   "execution_count": 40,
   "metadata": {},
   "outputs": [
    {
     "data": {
      "image/png": "[encoded data removed]",
      "text/plain": [
       "<Figure size 1080x360 with 3 Axes>"
      ]
     },
     "metadata": {
      "needs_background": "light"
     },
     "output_type": "display_data"
    }
   ],
   "source": [
    "plt.figure(figsize=(15,5))\n",
    "\n",
    "plt.subplot(131)\n",
    "\n",
    "draw_convergence(\"beta0\",GD_result_B)\n",
    "draw_convergence(\"beta1\",GD_result_B)\n",
    "draw_convergence(\"beta2\",GD_result_B)\n",
    "draw_convergence(\"beta3\",GD_result_B)\n",
    "draw_convergence(\"beta4\",GD_result_B)\n",
    "draw_convergence(\"beta5\",GD_result_B)\n",
    "draw_convergence(\"beta6\",GD_result_B)\n",
    "draw_convergence(\"beta7\",GD_result_B)\n",
    "draw_convergence(\"beta8\",GD_result_B)\n",
    "plt.title(\"Variable Convergence\",fontsize=20)\n",
    "\n",
    "plt.subplot(132)\n",
    "\n",
    "draw_convergence(\"cost\",GD_result_B)\n",
    "plt.title(\"Cost Function Convergence\",fontsize=20)\n",
    "\n",
    "plt.subplot(133)\n",
    "\n",
    "draw_convergence(\"t_step\",GD_result_B)\n",
    "plt.yscale(\"log\")\n",
    "plt.title(\"Step Size Convergence\",fontsize=20)\n",
    "\n",
    "plt.show()"
   ]
  },
  {
   "cell_type": "markdown",
   "metadata": {},
   "source": [
    "A번과 마찬가지로 수렴이 잘 된 모습을 확인할 수 있다. "
   ]
  },
  {
   "cell_type": "markdown",
   "metadata": {},
   "source": [
    "## 문제 C. A에 L1-Penalty를 추가하여 Sub Gradient 방법으로 풀어보자. "
   ]
  },
  {
   "cell_type": "markdown",
   "metadata": {},
   "source": [
    "L2와 마찬가지로 L1-Penalty가 추가된다면 목적함수가 다음과 같이 바뀐다.  \n",
    "$$f_C(\\beta) = f_A(\\beta) + \\lambda \\parallel \\beta \\parallel_1 \\\\ = \\sum \\{ y_i X_i \\beta -log (1+exp(X_i\\beta)) \\} + \\lambda \\parallel \\beta \\parallel_1 $$\n",
    "\n",
    "**마찬가지로 이를 이용해서 Cost Function을 구현해주자.**"
   ]
  },
  {
   "cell_type": "code",
   "execution_count": 119,
   "metadata": {},
   "outputs": [],
   "source": [
    "def cost_C(beta,lamda) : \n",
    "    return(-y_mat.T@x_mat@beta +sum(np.log(1+np.exp(x_mat@beta)))+lamda * np.linalg.norm(beta,1))"
   ]
  },
  {
   "cell_type": "markdown",
   "metadata": {},
   "source": [
    "그러나 앞선 경우와는 다르게 $\\parallel \\beta \\parallel_1$ 는 미분이 불가능하다.  \n",
    "이 경우에는 일반적인 Gradient Descent가 아니라 Subgradient를 이용해줘서 문제를 풀어줘야 한다.  \n",
    "\n",
    "subgradient의 정의는 다음과 같다.  \n",
    "\n",
    "> Subgradient of $f(x)$ = $\\partial f(x)$  \n",
    "$f(x)$에 대해 $f(y) \\geq f(x) +g \\cdot (y-x)$를 만족하는 g의 집합\n",
    "\n",
    "즉 일반적으로 미분가능할 때는 $g= \\{\\nabla f(x) \\}$ 이지만 미분이 불가능한 Convex Function에서는 이를 대신할 수들을 계산해서 Gradient를 대체할 수 있다는 의미이다.  \n",
    "\n",
    "이러한 Subgradient를 계산하면 다음과 같다.  \n",
    "\n",
    "$$\\partial f_C(\\beta) = \\partial\\{f_A(\\beta) + \\lambda \\parallel \\beta \\parallel_1\\} \\\\ \\qquad = \\partial f_A(\\beta) + \\lambda \\partial(\\parallel \\beta \\parallel_1) \\\\ \\qquad = \\nabla f_A(\\beta) + \\lambda \\partial(\\parallel \\beta \\parallel_1)$$"
   ]
  },
  {
   "cell_type": "markdown",
   "metadata": {},
   "source": [
    "$\\parallel \\beta \\parallel_1$의 subgradient는 다음과 같다.  \n",
    "\n",
    "$$\\partial \\parallel \\beta \\parallel_1 = \\begin{cases} 1 \\qquad \\mbox{ if }\\beta_i >0  \\\\ -1 \\qquad \\mbox{ if }\\beta_i \\mbox{<0} \\\\ [-1,1] \\quad \\mbox{ if }\\beta_j =0   \\end{cases} $$  \n",
    "\n",
    "**이를 이용하여 Subradient를 계산해주는 함수를 구현해보자.**"
   ]
  },
  {
   "cell_type": "code",
   "execution_count": 120,
   "metadata": {},
   "outputs": [],
   "source": [
    "def l1_subgradient(beta) : \n",
    "    sub_placeholder = np.zeros(np.shape(beta)[0])\n",
    "    for i in range(np.shape(beta)[0]) :\n",
    "        if beta[i] > 0 : sub_placeholder[i] = 1\n",
    "        elif beta[i] <0 : sub_placeholder[i] = -1\n",
    "        else : sub_placeholder[i] = 0\n",
    "    return(sub_placeholder.reshape(-1,1))\n",
    "\n",
    "def gradient_C(beta,lamda) :\n",
    "    return(sum((-y_mat.reshape(-1,1)+logit(x_mat@beta)).T@x_mat).reshape(-1,1)+lamda*l1_subgradient(beta))\n"
   ]
  },
  {
   "cell_type": "markdown",
   "metadata": {},
   "source": [
    "**나머지는 앞서서와 똑같이 해주면 된다.**"
   ]
  },
  {
   "cell_type": "code",
   "execution_count": 121,
   "metadata": {},
   "outputs": [],
   "source": [
    "def backtracking_C(t,lamda) :\n",
    "    beta_plus = beta_temp-t*gradient_C(beta_temp,lamda)\n",
    "    LS = cost_C(beta_plus,lamda)\n",
    "    RS = cost_C(beta_temp,lamda)-alpha*t*sum(gradient_C(beta_temp,lamda)**2)\n",
    "    return(LS>RS)\n",
    "\n",
    "def earlystopping_C(beta,lamda,goal) :\n",
    "    return(np.linalg.norm(gradient_C(beta,lamda))<goal)"
   ]
  },
  {
   "cell_type": "code",
   "execution_count": 122,
   "metadata": {},
   "outputs": [],
   "source": [
    "## 초기값\n",
    "beta_init = np.array([1,1,1,1,1,1,1,1,1]).reshape(9,1)\n",
    "t_init = 10\n",
    "\n",
    "## 현재값\n",
    "beta_temp = beta_init\n",
    "t_temp = t_init\n",
    "\n",
    "## Penalty Function Hyperparameter\n",
    "lamda = 10\n",
    "\n",
    "## 전체 결과물 저장소\n",
    "GD_result_C = [cost_C(beta_temp,lamda = 10).tolist()+[t_temp]+beta_temp.T.tolist()[0]]\n",
    "\n",
    "## BackTracking Hyperparameter\n",
    "alpha = 0.5\n",
    "beta = 0.7\n",
    "\n",
    "## Early Stopping Hyperparameter\n",
    "tol = 15"
   ]
  },
  {
   "cell_type": "code",
   "execution_count": 124,
   "metadata": {},
   "outputs": [],
   "source": [
    "for i in range(1000) :\n",
    "    while backtracking_C(t_temp,lamda) :\n",
    "        t_temp = t_temp * beta\n",
    "    beta_temp = beta_temp - t_temp*gradient_C(beta_temp,lamda)\n",
    "    GD_result_C = np.append(GD_result_C,[cost_C(beta_temp,lamda).tolist()+[t_temp]+beta_temp.T.tolist()[0]],axis=0)\n",
    "    if earlystopping_C(beta_temp,lamda,tol) : break\n",
    "GD_result_C = pd.DataFrame(GD_result_C,columns=[\"cost\",\"t_step\",\"beta0\",\"beta1\",\"beta2\",\"beta3\",\"beta4\",\"beta5\",\"beta6\",\"beta7\",\"beta8\"])"
   ]
  },
  {
   "cell_type": "markdown",
   "metadata": {},
   "source": [
    "**이제 결과를 살펴보자.**"
   ]
  },
  {
   "cell_type": "code",
   "execution_count": 90,
   "metadata": {},
   "outputs": [
    {
     "data": {
      "text/html": [
       "<div>\n",
       "<style scoped>\n",
       "    .dataframe tbody tr th:only-of-type {\n",
       "        vertical-align: middle;\n",
       "    }\n",
       "\n",
       "    .dataframe tbody tr th {\n",
       "        vertical-align: top;\n",
       "    }\n",
       "\n",
       "    .dataframe thead th {\n",
       "        text-align: right;\n",
       "    }\n",
       "</style>\n",
       "<table border=\"1\" class=\"dataframe\">\n",
       "  <thead>\n",
       "    <tr style=\"text-align: right;\">\n",
       "      <th></th>\n",
       "      <th>cost</th>\n",
       "      <th>t_step</th>\n",
       "      <th>beta0</th>\n",
       "      <th>beta1</th>\n",
       "      <th>beta2</th>\n",
       "      <th>beta3</th>\n",
       "      <th>beta4</th>\n",
       "      <th>beta5</th>\n",
       "      <th>beta6</th>\n",
       "      <th>beta7</th>\n",
       "      <th>beta8</th>\n",
       "    </tr>\n",
       "  </thead>\n",
       "  <tbody>\n",
       "    <tr>\n",
       "      <td>0</td>\n",
       "      <td>956.720916</td>\n",
       "      <td>10.000000</td>\n",
       "      <td>1.000000</td>\n",
       "      <td>1.000000</td>\n",
       "      <td>1.000000</td>\n",
       "      <td>1.000000</td>\n",
       "      <td>1.000000</td>\n",
       "      <td>1.000000</td>\n",
       "      <td>1.000000</td>\n",
       "      <td>1.000000</td>\n",
       "      <td>1.000000</td>\n",
       "    </tr>\n",
       "    <tr>\n",
       "      <td>1</td>\n",
       "      <td>433.059973</td>\n",
       "      <td>0.011399</td>\n",
       "      <td>-1.087666</td>\n",
       "      <td>0.402790</td>\n",
       "      <td>1.073155</td>\n",
       "      <td>-0.425780</td>\n",
       "      <td>-0.371613</td>\n",
       "      <td>0.025622</td>\n",
       "      <td>0.364506</td>\n",
       "      <td>0.478230</td>\n",
       "      <td>0.245053</td>\n",
       "    </tr>\n",
       "    <tr>\n",
       "      <td>2</td>\n",
       "      <td>401.513642</td>\n",
       "      <td>0.005585</td>\n",
       "      <td>-0.869967</td>\n",
       "      <td>0.345973</td>\n",
       "      <td>1.098585</td>\n",
       "      <td>-0.161380</td>\n",
       "      <td>-0.008834</td>\n",
       "      <td>0.039143</td>\n",
       "      <td>0.615530</td>\n",
       "      <td>0.374548</td>\n",
       "      <td>0.158751</td>\n",
       "    </tr>\n",
       "    <tr>\n",
       "      <td>3</td>\n",
       "      <td>398.460663</td>\n",
       "      <td>0.002737</td>\n",
       "      <td>-0.839947</td>\n",
       "      <td>0.345845</td>\n",
       "      <td>1.061399</td>\n",
       "      <td>-0.156812</td>\n",
       "      <td>-0.006009</td>\n",
       "      <td>-0.050095</td>\n",
       "      <td>0.595604</td>\n",
       "      <td>0.322457</td>\n",
       "      <td>0.147104</td>\n",
       "    </tr>\n",
       "    <tr>\n",
       "      <td>4</td>\n",
       "      <td>397.744561</td>\n",
       "      <td>0.002737</td>\n",
       "      <td>-0.813577</td>\n",
       "      <td>0.341487</td>\n",
       "      <td>1.039692</td>\n",
       "      <td>-0.148860</td>\n",
       "      <td>0.013290</td>\n",
       "      <td>-0.048432</td>\n",
       "      <td>0.583961</td>\n",
       "      <td>0.288160</td>\n",
       "      <td>0.135570</td>\n",
       "    </tr>\n",
       "    <tr>\n",
       "      <td>5</td>\n",
       "      <td>397.322081</td>\n",
       "      <td>0.001916</td>\n",
       "      <td>-0.799675</td>\n",
       "      <td>0.340057</td>\n",
       "      <td>1.027558</td>\n",
       "      <td>-0.144562</td>\n",
       "      <td>-0.015623</td>\n",
       "      <td>-0.048115</td>\n",
       "      <td>0.575453</td>\n",
       "      <td>0.270480</td>\n",
       "      <td>0.131018</td>\n",
       "    </tr>\n",
       "  </tbody>\n",
       "</table>\n",
       "</div>"
      ],
      "text/plain": [
       "         cost     t_step     beta0     beta1     beta2     beta3     beta4  \\\n",
       "0  956.720916  10.000000  1.000000  1.000000  1.000000  1.000000  1.000000   \n",
       "1  433.059973   0.011399 -1.087666  0.402790  1.073155 -0.425780 -0.371613   \n",
       "2  401.513642   0.005585 -0.869967  0.345973  1.098585 -0.161380 -0.008834   \n",
       "3  398.460663   0.002737 -0.839947  0.345845  1.061399 -0.156812 -0.006009   \n",
       "4  397.744561   0.002737 -0.813577  0.341487  1.039692 -0.148860  0.013290   \n",
       "5  397.322081   0.001916 -0.799675  0.340057  1.027558 -0.144562 -0.015623   \n",
       "\n",
       "      beta5     beta6     beta7     beta8  \n",
       "0  1.000000  1.000000  1.000000  1.000000  \n",
       "1  0.025622  0.364506  0.478230  0.245053  \n",
       "2  0.039143  0.615530  0.374548  0.158751  \n",
       "3 -0.050095  0.595604  0.322457  0.147104  \n",
       "4 -0.048432  0.583961  0.288160  0.135570  \n",
       "5 -0.048115  0.575453  0.270480  0.131018  "
      ]
     },
     "execution_count": 90,
     "metadata": {},
     "output_type": "execute_result"
    }
   ],
   "source": [
    "GD_result_C"
   ]
  },
  {
   "cell_type": "code",
   "execution_count": 91,
   "metadata": {},
   "outputs": [
    {
     "data": {
      "image/png": "[encoded data removed]",
      "text/plain": [
       "<Figure size 1080x360 with 3 Axes>"
      ]
     },
     "metadata": {
      "needs_background": "light"
     },
     "output_type": "display_data"
    }
   ],
   "source": [
    "plt.figure(figsize=(15,5))\n",
    "\n",
    "plt.subplot(131)\n",
    "\n",
    "draw_convergence(\"beta0\",GD_result_C)\n",
    "draw_convergence(\"beta1\",GD_result_C)\n",
    "draw_convergence(\"beta2\",GD_result_C)\n",
    "draw_convergence(\"beta3\",GD_result_C)\n",
    "draw_convergence(\"beta4\",GD_result_C)\n",
    "draw_convergence(\"beta5\",GD_result_C)\n",
    "draw_convergence(\"beta6\",GD_result_C)\n",
    "draw_convergence(\"beta7\",GD_result_C)\n",
    "draw_convergence(\"beta8\",GD_result_C)\n",
    "plt.title(\"Variable Convergence\",fontsize=20)\n",
    "\n",
    "\n",
    "plt.subplot(132)\n",
    "\n",
    "draw_convergence(\"cost\",GD_result_C)\n",
    "plt.title(\"Cost Function Convergence\",fontsize=20)\n",
    "\n",
    "plt.subplot(133)\n",
    "\n",
    "draw_convergence(\"t_step\",GD_result_C)\n",
    "plt.yscale(\"log\")\n",
    "plt.title(\"Step Size Convergence\",fontsize=20)\n",
    "\n",
    "plt.show()"
   ]
  },
  {
   "cell_type": "markdown",
   "metadata": {},
   "source": [
    "결과를 보니 잘 수렴한 것을 알 수 있다. "
   ]
  }
 ],
 "metadata": {
  "kernelspec": {
   "display_name": "Python 3",
   "language": "python",
   "name": "python3"
  },
  "language_info": {
   "codemirror_mode": {
    "name": "ipython",
    "version": 3
   },
   "file_extension": ".py",
   "mimetype": "text/x-python",
   "name": "python",
   "nbconvert_exporter": "python",
   "pygments_lexer": "ipython3",
   "version": "3.7.4"
  }
 },
 "nbformat": 4,
 "nbformat_minor": 2
}
